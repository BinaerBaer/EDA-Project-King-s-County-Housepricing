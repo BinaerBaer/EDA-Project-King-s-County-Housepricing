{
 "cells": [
  {
   "cell_type": "markdown",
   "metadata": {},
   "source": [
    "# Project 1: EDA: King County House Pricing Data Set\n",
    "## Final Project Submission\n",
    "\n",
    "Please fill out:\n",
    "* Student name: Bendix Haß\n"
   ]
  },
  {
   "cell_type": "markdown",
   "metadata": {},
   "source": [
    "## Setup\n",
    "\n",
    "Core setup for the Notebook. You will find all imported packages etc. here."
   ]
  },
  {
   "cell_type": "code",
   "execution_count": 126,
   "metadata": {},
   "outputs": [],
   "source": [
    "reset -fs"
   ]
  },
  {
   "cell_type": "code",
   "execution_count": 127,
   "metadata": {},
   "outputs": [],
   "source": [
    "import matplotlib.pyplot as plt\n",
    "import numpy as np\n",
    "import pandas as pd\n",
    "from scipy import stats\n",
    "import seaborn as sns\n",
    "import statsmodels.formula.api as smf"
   ]
  },
  {
   "cell_type": "markdown",
   "metadata": {},
   "source": [
    "## Business Understanding\n",
    "\n",
    "Ask relevant questions and define objectives for the problem that need to be tackled"
   ]
  },
  {
   "cell_type": "markdown",
   "metadata": {},
   "source": [
    "### General\n",
    "* ~34400 households\n",
    "* 27000 families\n",
    "* economy agriculturally dominant\n",
    "* demographics:\n",
    "    * median household income in the county was \\$47,035\n",
    "    * 17.6\\% of the population was below the poverty line.\n",
    "    * average per capita income \\$35,306: ranked last of California's 58 counties.\n",
    "* major employers:\n",
    "    * NAS Lemoore\n",
    "    * Del Monte Foods \n",
    "    * Adventist Health\n",
    "    * J. G. Boswell Company\n",
    "    * Leprino Foods\n",
    "    * Kings County Government and the California Department of Corrections and Rehabilitation"
   ]
  },
  {
   "cell_type": "markdown",
   "metadata": {},
   "source": [
    "### Role of King County prisons\n",
    "* 12,2% of population imprisoned\n",
    "* highest  incarceration rate of California countys\n",
    "* King's County jail (36.332618, -119.669376)\n",
    "* California State prison Corcoran (36.060564, -119.549428)\n",
    "* Avenal State Prison (35.973078, -120.119543)\n",
    "* Pleasant Valley State Prison (36.128039, -120.237817)"
   ]
  },
  {
   "cell_type": "markdown",
   "metadata": {},
   "source": [
    "## Data Mining\n",
    "\n",
    "Gather and scrape the data necessary for the project"
   ]
  },
  {
   "cell_type": "markdown",
   "metadata": {},
   "source": [
    "### Column Names and descriptions for Kings County Data Set\n",
    "* **id** - unique identified for a house\n",
    "* **date** - Date house was sold\n",
    "* **price** - Price: is prediction target\n",
    "* **bedrooms** - Number of Bedrooms/House\n",
    "* **bathrooms** - Number of bathrooms/bedrooms\n",
    "* **sqft_living** - square footage of the home\n",
    "* **sqft_lot** - square footage of the lot\n",
    "* **floors** - Total floors (levels) in house\n",
    "* **waterfront** - House which has a view to a waterfront\n",
    "* **view** - Has been viewed\n",
    "* **condition** - How good the condition is ( Overall )\n",
    "* **grade** - overall grade given to the housing unit, based on King County grading system\n",
    "* **sqft_above** - square footage of house apart from basement\n",
    "* **sqft_basement** - square footage of the basement\n",
    "* **yr_built** - Built Year\n",
    "* **yr_renovated** - Year when house was renovated\n",
    "* **zipcode** - zip\n",
    "* **lat** - Latitude coordinate\n",
    "* **long** - Longitude coordinate\n",
    "* **sqft_living15** - The square footage of interior housing living space for the nearest 15 neighbors\n",
    "* **sqft_lot15** - The square footage of the land lots of the nearest 15 neighbors\n"
   ]
  },
  {
   "cell_type": "code",
   "execution_count": 128,
   "metadata": {},
   "outputs": [
    {
     "name": "stdout",
     "output_type": "stream",
     "text": [
      "<class 'pandas.core.frame.DataFrame'>\n",
      "RangeIndex: 21597 entries, 0 to 21596\n",
      "Data columns (total 21 columns):\n",
      "id               21597 non-null int64\n",
      "date             21597 non-null object\n",
      "price            21597 non-null float64\n",
      "bedrooms         21597 non-null int64\n",
      "bathrooms        21597 non-null float64\n",
      "sqft_living      21597 non-null int64\n",
      "sqft_lot         21597 non-null int64\n",
      "floors           21597 non-null float64\n",
      "waterfront       19221 non-null float64\n",
      "view             21534 non-null float64\n",
      "condition        21597 non-null int64\n",
      "grade            21597 non-null int64\n",
      "sqft_above       21597 non-null int64\n",
      "sqft_basement    21597 non-null object\n",
      "yr_built         21597 non-null int64\n",
      "yr_renovated     17755 non-null float64\n",
      "zipcode          21597 non-null int64\n",
      "lat              21597 non-null float64\n",
      "long             21597 non-null float64\n",
      "sqft_living15    21597 non-null int64\n",
      "sqft_lot15       21597 non-null int64\n",
      "dtypes: float64(8), int64(11), object(2)\n",
      "memory usage: 3.5+ MB\n"
     ]
    }
   ],
   "source": [
    "df = pd.read_csv('King_County_House_prices_dataset.csv', delimiter=',')\n",
    "df.info()"
   ]
  },
  {
   "cell_type": "code",
   "execution_count": 129,
   "metadata": {
    "scrolled": true
   },
   "outputs": [
    {
     "data": {
      "text/html": [
       "<div>\n",
       "<style scoped>\n",
       "    .dataframe tbody tr th:only-of-type {\n",
       "        vertical-align: middle;\n",
       "    }\n",
       "\n",
       "    .dataframe tbody tr th {\n",
       "        vertical-align: top;\n",
       "    }\n",
       "\n",
       "    .dataframe thead th {\n",
       "        text-align: right;\n",
       "    }\n",
       "</style>\n",
       "<table border=\"1\" class=\"dataframe\">\n",
       "  <thead>\n",
       "    <tr style=\"text-align: right;\">\n",
       "      <th></th>\n",
       "      <th>id</th>\n",
       "      <th>date</th>\n",
       "      <th>price</th>\n",
       "      <th>bedrooms</th>\n",
       "      <th>bathrooms</th>\n",
       "      <th>sqft_living</th>\n",
       "      <th>sqft_lot</th>\n",
       "      <th>floors</th>\n",
       "      <th>waterfront</th>\n",
       "      <th>view</th>\n",
       "      <th>...</th>\n",
       "      <th>grade</th>\n",
       "      <th>sqft_above</th>\n",
       "      <th>sqft_basement</th>\n",
       "      <th>yr_built</th>\n",
       "      <th>yr_renovated</th>\n",
       "      <th>zipcode</th>\n",
       "      <th>lat</th>\n",
       "      <th>long</th>\n",
       "      <th>sqft_living15</th>\n",
       "      <th>sqft_lot15</th>\n",
       "    </tr>\n",
       "  </thead>\n",
       "  <tbody>\n",
       "    <tr>\n",
       "      <th>0</th>\n",
       "      <td>7129300520</td>\n",
       "      <td>10/13/2014</td>\n",
       "      <td>221900.0</td>\n",
       "      <td>3</td>\n",
       "      <td>1.00</td>\n",
       "      <td>1180</td>\n",
       "      <td>5650</td>\n",
       "      <td>1.0</td>\n",
       "      <td>NaN</td>\n",
       "      <td>0.0</td>\n",
       "      <td>...</td>\n",
       "      <td>7</td>\n",
       "      <td>1180</td>\n",
       "      <td>0.0</td>\n",
       "      <td>1955</td>\n",
       "      <td>0.0</td>\n",
       "      <td>98178</td>\n",
       "      <td>47.5112</td>\n",
       "      <td>-122.257</td>\n",
       "      <td>1340</td>\n",
       "      <td>5650</td>\n",
       "    </tr>\n",
       "    <tr>\n",
       "      <th>1</th>\n",
       "      <td>6414100192</td>\n",
       "      <td>12/9/2014</td>\n",
       "      <td>538000.0</td>\n",
       "      <td>3</td>\n",
       "      <td>2.25</td>\n",
       "      <td>2570</td>\n",
       "      <td>7242</td>\n",
       "      <td>2.0</td>\n",
       "      <td>0.0</td>\n",
       "      <td>0.0</td>\n",
       "      <td>...</td>\n",
       "      <td>7</td>\n",
       "      <td>2170</td>\n",
       "      <td>400.0</td>\n",
       "      <td>1951</td>\n",
       "      <td>1991.0</td>\n",
       "      <td>98125</td>\n",
       "      <td>47.7210</td>\n",
       "      <td>-122.319</td>\n",
       "      <td>1690</td>\n",
       "      <td>7639</td>\n",
       "    </tr>\n",
       "    <tr>\n",
       "      <th>2</th>\n",
       "      <td>5631500400</td>\n",
       "      <td>2/25/2015</td>\n",
       "      <td>180000.0</td>\n",
       "      <td>2</td>\n",
       "      <td>1.00</td>\n",
       "      <td>770</td>\n",
       "      <td>10000</td>\n",
       "      <td>1.0</td>\n",
       "      <td>0.0</td>\n",
       "      <td>0.0</td>\n",
       "      <td>...</td>\n",
       "      <td>6</td>\n",
       "      <td>770</td>\n",
       "      <td>0.0</td>\n",
       "      <td>1933</td>\n",
       "      <td>NaN</td>\n",
       "      <td>98028</td>\n",
       "      <td>47.7379</td>\n",
       "      <td>-122.233</td>\n",
       "      <td>2720</td>\n",
       "      <td>8062</td>\n",
       "    </tr>\n",
       "    <tr>\n",
       "      <th>3</th>\n",
       "      <td>2487200875</td>\n",
       "      <td>12/9/2014</td>\n",
       "      <td>604000.0</td>\n",
       "      <td>4</td>\n",
       "      <td>3.00</td>\n",
       "      <td>1960</td>\n",
       "      <td>5000</td>\n",
       "      <td>1.0</td>\n",
       "      <td>0.0</td>\n",
       "      <td>0.0</td>\n",
       "      <td>...</td>\n",
       "      <td>7</td>\n",
       "      <td>1050</td>\n",
       "      <td>910.0</td>\n",
       "      <td>1965</td>\n",
       "      <td>0.0</td>\n",
       "      <td>98136</td>\n",
       "      <td>47.5208</td>\n",
       "      <td>-122.393</td>\n",
       "      <td>1360</td>\n",
       "      <td>5000</td>\n",
       "    </tr>\n",
       "    <tr>\n",
       "      <th>4</th>\n",
       "      <td>1954400510</td>\n",
       "      <td>2/18/2015</td>\n",
       "      <td>510000.0</td>\n",
       "      <td>3</td>\n",
       "      <td>2.00</td>\n",
       "      <td>1680</td>\n",
       "      <td>8080</td>\n",
       "      <td>1.0</td>\n",
       "      <td>0.0</td>\n",
       "      <td>0.0</td>\n",
       "      <td>...</td>\n",
       "      <td>8</td>\n",
       "      <td>1680</td>\n",
       "      <td>0.0</td>\n",
       "      <td>1987</td>\n",
       "      <td>0.0</td>\n",
       "      <td>98074</td>\n",
       "      <td>47.6168</td>\n",
       "      <td>-122.045</td>\n",
       "      <td>1800</td>\n",
       "      <td>7503</td>\n",
       "    </tr>\n",
       "  </tbody>\n",
       "</table>\n",
       "<p>5 rows × 21 columns</p>\n",
       "</div>"
      ],
      "text/plain": [
       "           id        date     price  bedrooms  bathrooms  sqft_living  \\\n",
       "0  7129300520  10/13/2014  221900.0         3       1.00         1180   \n",
       "1  6414100192   12/9/2014  538000.0         3       2.25         2570   \n",
       "2  5631500400   2/25/2015  180000.0         2       1.00          770   \n",
       "3  2487200875   12/9/2014  604000.0         4       3.00         1960   \n",
       "4  1954400510   2/18/2015  510000.0         3       2.00         1680   \n",
       "\n",
       "   sqft_lot  floors  waterfront  view  ...  grade  sqft_above  sqft_basement  \\\n",
       "0      5650     1.0         NaN   0.0  ...      7        1180            0.0   \n",
       "1      7242     2.0         0.0   0.0  ...      7        2170          400.0   \n",
       "2     10000     1.0         0.0   0.0  ...      6         770            0.0   \n",
       "3      5000     1.0         0.0   0.0  ...      7        1050          910.0   \n",
       "4      8080     1.0         0.0   0.0  ...      8        1680            0.0   \n",
       "\n",
       "  yr_built  yr_renovated  zipcode      lat     long  sqft_living15  sqft_lot15  \n",
       "0     1955           0.0    98178  47.5112 -122.257           1340        5650  \n",
       "1     1951        1991.0    98125  47.7210 -122.319           1690        7639  \n",
       "2     1933           NaN    98028  47.7379 -122.233           2720        8062  \n",
       "3     1965           0.0    98136  47.5208 -122.393           1360        5000  \n",
       "4     1987           0.0    98074  47.6168 -122.045           1800        7503  \n",
       "\n",
       "[5 rows x 21 columns]"
      ]
     },
     "execution_count": 129,
     "metadata": {},
     "output_type": "execute_result"
    }
   ],
   "source": [
    "df.head()"
   ]
  },
  {
   "cell_type": "markdown",
   "metadata": {},
   "source": [
    "## Data Cleaning\n",
    "\n",
    "Fix the inconsistencies within the data and handle the missing values"
   ]
  },
  {
   "cell_type": "code",
   "execution_count": 130,
   "metadata": {},
   "outputs": [
    {
     "data": {
      "text/plain": [
       "id               21420\n",
       "date               372\n",
       "price             3622\n",
       "bedrooms            12\n",
       "bathrooms           29\n",
       "sqft_living       1034\n",
       "sqft_lot          9776\n",
       "floors               6\n",
       "waterfront           2\n",
       "view                 5\n",
       "condition            5\n",
       "grade               11\n",
       "sqft_above         942\n",
       "sqft_basement      304\n",
       "yr_built           116\n",
       "yr_renovated        70\n",
       "zipcode             70\n",
       "lat               5033\n",
       "long               751\n",
       "sqft_living15      777\n",
       "sqft_lot15        8682\n",
       "dtype: int64"
      ]
     },
     "execution_count": 130,
     "metadata": {},
     "output_type": "execute_result"
    }
   ],
   "source": [
    "df.nunique()"
   ]
  },
  {
   "cell_type": "code",
   "execution_count": 131,
   "metadata": {},
   "outputs": [
    {
     "data": {
      "text/plain": [
       "array([1.  , 2.25, 3.  , 2.  , 4.5 , 1.5 , 2.5 , 1.75, 2.75, 3.25, 4.  ,\n",
       "       3.5 , 0.75, 4.75, 5.  , 4.25, 3.75, 1.25, 5.25, 6.  , 0.5 , 5.5 ,\n",
       "       6.75, 5.75, 8.  , 7.5 , 7.75, 6.25, 6.5 ])"
      ]
     },
     "execution_count": 131,
     "metadata": {},
     "output_type": "execute_result"
    }
   ],
   "source": [
    "# I wonder why baths is a floating point variable\n",
    "df.bathrooms.unique()\n",
    "\n",
    "# conclusion: it follows a calculation of quarter baths\n",
    "# bath: toilet = 0.25, toilet + sink = 0.5, toilet + sink + shower = 0.75, toilet + sink + shower + tub = 1"
   ]
  },
  {
   "cell_type": "code",
   "execution_count": 132,
   "metadata": {},
   "outputs": [
    {
     "data": {
      "text/plain": [
       "array([1. , 2. , 1.5, 3. , 2.5, 3.5])"
      ]
     },
     "execution_count": 132,
     "metadata": {},
     "output_type": "execute_result"
    }
   ],
   "source": [
    "# I wonder why floors is a floating point variable\n",
    "df.floors.unique()\n",
    "\n",
    "# conclusion: stories under a pitched roof are .5 floors"
   ]
  },
  {
   "cell_type": "code",
   "execution_count": 133,
   "metadata": {},
   "outputs": [
    {
     "data": {
      "text/plain": [
       "array([nan,  0.,  1.])"
      ]
     },
     "execution_count": 133,
     "metadata": {},
     "output_type": "execute_result"
    }
   ],
   "source": [
    "# I wonder why waterfront is a floating point variable\n",
    "df.waterfront.unique()\n",
    "\n",
    "# conclusion: can be casted to integer after NaNs are handled"
   ]
  },
  {
   "cell_type": "code",
   "execution_count": 134,
   "metadata": {},
   "outputs": [
    {
     "data": {
      "text/plain": [
       "0.0    19075\n",
       "1.0      146\n",
       "Name: waterfront, dtype: int64"
      ]
     },
     "execution_count": 134,
     "metadata": {},
     "output_type": "execute_result"
    }
   ],
   "source": [
    "# What is the expected value for waterfront?\n",
    "df.waterfront.value_counts()"
   ]
  },
  {
   "cell_type": "code",
   "execution_count": 135,
   "metadata": {},
   "outputs": [],
   "source": [
    "# <1% are at a waterfront.\n",
    "# I will replace nan-values by 0 (not expected to be at waterfront)\n",
    "df.waterfront.replace(to_replace=[np.nan], value=0, inplace=True);"
   ]
  },
  {
   "cell_type": "code",
   "execution_count": 136,
   "metadata": {},
   "outputs": [
    {
     "data": {
      "text/plain": [
       "array([ 0., nan,  3.,  4.,  2.,  1.])"
      ]
     },
     "execution_count": 136,
     "metadata": {},
     "output_type": "execute_result"
    }
   ],
   "source": [
    "# I wonder why view is a floating point variable\n",
    "df.view.unique()\n",
    "\n",
    "# conclusion: view can be casted to int64 after handling NaNs"
   ]
  },
  {
   "cell_type": "code",
   "execution_count": 137,
   "metadata": {},
   "outputs": [
    {
     "data": {
      "text/plain": [
       "0.0    19422\n",
       "2.0      957\n",
       "3.0      508\n",
       "1.0      330\n",
       "4.0      317\n",
       "Name: view, dtype: int64"
      ]
     },
     "execution_count": 137,
     "metadata": {},
     "output_type": "execute_result"
    }
   ],
   "source": [
    "df.view.value_counts()"
   ]
  },
  {
   "cell_type": "code",
   "execution_count": 138,
   "metadata": {},
   "outputs": [],
   "source": [
    "# ~10% have a view of 0.\n",
    "# I will replace nan-values by 0\n",
    "df.view.replace(to_replace=[np.nan], value=0, inplace=True);"
   ]
  },
  {
   "cell_type": "code",
   "execution_count": 139,
   "metadata": {},
   "outputs": [
    {
     "data": {
      "text/plain": [
       "array([   0., 1991.,   nan, 2002., 2010., 1992., 2013., 1994., 1978.,\n",
       "       2005., 2003., 1984., 1954., 2014., 2011., 1983., 1945., 1990.,\n",
       "       1988., 1977., 1981., 1995., 2000., 1999., 1998., 1970., 1989.,\n",
       "       2004., 1986., 2007., 1987., 2006., 1985., 2001., 1980., 1971.,\n",
       "       1979., 1997., 1950., 1969., 1948., 2009., 2015., 1974., 2008.,\n",
       "       1968., 2012., 1963., 1951., 1962., 1953., 1993., 1996., 1955.,\n",
       "       1982., 1956., 1940., 1976., 1946., 1975., 1964., 1973., 1957.,\n",
       "       1959., 1960., 1967., 1965., 1934., 1972., 1944., 1958.])"
      ]
     },
     "execution_count": 139,
     "metadata": {},
     "output_type": "execute_result"
    }
   ],
   "source": [
    "# I wonder why yr_renovated is a floating point variable\n",
    "df.yr_renovated.unique()\n",
    "\n",
    "# conclusion: yr_renovated can be casted to int64 after handling NaNs"
   ]
  },
  {
   "cell_type": "code",
   "execution_count": 140,
   "metadata": {},
   "outputs": [],
   "source": [
    "df.yr_renovated.value_counts(dropna=False)\n",
    "# 79% has not been renovated\n",
    "# 18% is NaN\n",
    "# conclusion: NaN will be replaced by 0\n",
    "df.yr_renovated.replace(to_replace=[np.nan], value=0, inplace=True);"
   ]
  },
  {
   "cell_type": "code",
   "execution_count": 141,
   "metadata": {
    "scrolled": true
   },
   "outputs": [
    {
     "data": {
      "text/plain": [
       "array(['0.0', '400.0', '910.0', '1530.0', '?', '730.0', '1700.0', '300.0',\n",
       "       '970.0', '760.0', '720.0', '700.0', '820.0', '780.0', '790.0',\n",
       "       '330.0', '1620.0', '360.0', '588.0', '1510.0', '410.0', '990.0',\n",
       "       '600.0', '560.0', '550.0', '1000.0', '1600.0', '500.0', '1040.0',\n",
       "       '880.0', '1010.0', '240.0', '265.0', '290.0', '800.0', '540.0',\n",
       "       '710.0', '840.0', '380.0', '770.0', '480.0', '570.0', '1490.0',\n",
       "       '620.0', '1250.0', '1270.0', '120.0', '650.0', '180.0', '1130.0',\n",
       "       '450.0', '1640.0', '1460.0', '1020.0', '1030.0', '750.0', '640.0',\n",
       "       '1070.0', '490.0', '1310.0', '630.0', '2000.0', '390.0', '430.0',\n",
       "       '850.0', '210.0', '1430.0', '1950.0', '440.0', '220.0', '1160.0',\n",
       "       '860.0', '580.0', '2060.0', '1820.0', '1180.0', '200.0', '1150.0',\n",
       "       '1200.0', '680.0', '530.0', '1450.0', '1170.0', '1080.0', '960.0',\n",
       "       '280.0', '870.0', '1100.0', '460.0', '1400.0', '660.0', '1220.0',\n",
       "       '900.0', '420.0', '1580.0', '1380.0', '475.0', '690.0', '270.0',\n",
       "       '350.0', '935.0', '1370.0', '980.0', '1470.0', '160.0', '950.0',\n",
       "       '50.0', '740.0', '1780.0', '1900.0', '340.0', '470.0', '370.0',\n",
       "       '140.0', '1760.0', '130.0', '520.0', '890.0', '1110.0', '150.0',\n",
       "       '1720.0', '810.0', '190.0', '1290.0', '670.0', '1800.0', '1120.0',\n",
       "       '1810.0', '60.0', '1050.0', '940.0', '310.0', '930.0', '1390.0',\n",
       "       '610.0', '1830.0', '1300.0', '510.0', '1330.0', '1590.0', '920.0',\n",
       "       '1320.0', '1420.0', '1240.0', '1960.0', '1560.0', '2020.0',\n",
       "       '1190.0', '2110.0', '1280.0', '250.0', '2390.0', '1230.0', '170.0',\n",
       "       '830.0', '1260.0', '1410.0', '1340.0', '590.0', '1500.0', '1140.0',\n",
       "       '260.0', '100.0', '320.0', '1480.0', '1060.0', '1284.0', '1670.0',\n",
       "       '1350.0', '2570.0', '1090.0', '110.0', '2500.0', '90.0', '1940.0',\n",
       "       '1550.0', '2350.0', '2490.0', '1481.0', '1360.0', '1135.0',\n",
       "       '1520.0', '1850.0', '1660.0', '2130.0', '2600.0', '1690.0',\n",
       "       '243.0', '1210.0', '1024.0', '1798.0', '1610.0', '1440.0',\n",
       "       '1570.0', '1650.0', '704.0', '1910.0', '1630.0', '2360.0',\n",
       "       '1852.0', '2090.0', '2400.0', '1790.0', '2150.0', '230.0', '70.0',\n",
       "       '1680.0', '2100.0', '3000.0', '1870.0', '1710.0', '2030.0',\n",
       "       '875.0', '1540.0', '2850.0', '2170.0', '506.0', '906.0', '145.0',\n",
       "       '2040.0', '784.0', '1750.0', '374.0', '518.0', '2720.0', '2730.0',\n",
       "       '1840.0', '3480.0', '2160.0', '1920.0', '2330.0', '1860.0',\n",
       "       '2050.0', '4820.0', '1913.0', '80.0', '2010.0', '3260.0', '2200.0',\n",
       "       '415.0', '1730.0', '652.0', '2196.0', '1930.0', '515.0', '40.0',\n",
       "       '2080.0', '2580.0', '1548.0', '1740.0', '235.0', '861.0', '1890.0',\n",
       "       '2220.0', '792.0', '2070.0', '4130.0', '2250.0', '2240.0',\n",
       "       '1990.0', '768.0', '2550.0', '435.0', '1008.0', '2300.0', '2610.0',\n",
       "       '666.0', '3500.0', '172.0', '1816.0', '2190.0', '1245.0', '1525.0',\n",
       "       '1880.0', '862.0', '946.0', '1281.0', '414.0', '2180.0', '276.0',\n",
       "       '1248.0', '602.0', '516.0', '176.0', '225.0', '1275.0', '266.0',\n",
       "       '283.0', '65.0', '2310.0', '10.0', '1770.0', '2120.0', '295.0',\n",
       "       '207.0', '915.0', '556.0', '417.0', '143.0', '508.0', '2810.0',\n",
       "       '20.0', '274.0', '248.0'], dtype=object)"
      ]
     },
     "execution_count": 141,
     "metadata": {},
     "output_type": "execute_result"
    }
   ],
   "source": [
    "# I wonder why sqft_basement is of type object\n",
    "df.sqft_basement.unique()\n",
    "\n",
    "# conclusion: sqft_basement contains '?' but could be casted to int64"
   ]
  },
  {
   "cell_type": "code",
   "execution_count": 142,
   "metadata": {},
   "outputs": [],
   "source": [
    "# sqft_basement has '?' values. \n",
    "# It cannot be casted to int64\n",
    "# Those '?' will be replaced by the mode\n",
    "df.sqft_basement.replace(to_replace=['?'], value=df.sqft_basement.mode(), inplace=True);"
   ]
  },
  {
   "cell_type": "markdown",
   "metadata": {},
   "source": [
    "### Data types\n",
    "\n",
    "Most of the data types are expected. Unexpected are listed below:\n",
    "1. **date** should be a DateTime type\n",
    "2. **price** can be integer. Decimal float point values are of no interest\n",
    "3. **bathrooms** follows this calculation: [bath](https://illinado.com/what-is-a-quarter-bath/)\n",
    "4. **floors** .5-values are pitched-roof stories\n",
    "5. **waterfront**, **view**, **yr_renovated**, **sqft_basement** can be cast to integer"
   ]
  },
  {
   "cell_type": "code",
   "execution_count": 146,
   "metadata": {
    "code_folding": []
   },
   "outputs": [],
   "source": [
    "# Casting Series types:\n",
    "df.date = df.astype({'date':'datetime64'})\n",
    "\n",
    "# casting from object -> float -> round -> int necessary\n",
    "for feat in ['price', 'waterfront', 'view', 'yr_renovated', 'sqft_basement']:\n",
    "    df[feat] = df[feat].astype(float).round(0).astype(int)"
   ]
  },
  {
   "cell_type": "code",
   "execution_count": 147,
   "metadata": {},
   "outputs": [
    {
     "name": "stdout",
     "output_type": "stream",
     "text": [
      "<class 'pandas.core.frame.DataFrame'>\n",
      "RangeIndex: 21597 entries, 0 to 21596\n",
      "Data columns (total 21 columns):\n",
      "id               21597 non-null int64\n",
      "date             21597 non-null object\n",
      "price            21597 non-null int64\n",
      "bedrooms         21597 non-null int64\n",
      "bathrooms        21597 non-null float64\n",
      "sqft_living      21597 non-null int64\n",
      "sqft_lot         21597 non-null int64\n",
      "floors           21597 non-null float64\n",
      "waterfront       21597 non-null int64\n",
      "view             21597 non-null int64\n",
      "condition        21597 non-null int64\n",
      "grade            21597 non-null int64\n",
      "sqft_above       21597 non-null int64\n",
      "sqft_basement    21597 non-null int64\n",
      "yr_built         21597 non-null int64\n",
      "yr_renovated     21597 non-null int64\n",
      "zipcode          21597 non-null int64\n",
      "lat              21597 non-null float64\n",
      "long             21597 non-null float64\n",
      "sqft_living15    21597 non-null int64\n",
      "sqft_lot15       21597 non-null int64\n",
      "dtypes: float64(4), int64(16), object(1)\n",
      "memory usage: 3.5+ MB\n"
     ]
    }
   ],
   "source": [
    "df.info()"
   ]
  },
  {
   "cell_type": "markdown",
   "metadata": {},
   "source": [
    "### Handling NaN\n",
    "1. NaN - We have missing data in the Features: **view**, **waterfront** and **yr_renovated**."
   ]
  },
  {
   "cell_type": "markdown",
   "metadata": {},
   "source": [
    "### Inconsistent data:\n",
    "1. **waterfront** = 0:\n",
    "2. **yr_renovated** = 0:\n",
    "3. **ID** some houses seem to be doubled: dataset has 21597 entries but only 21420 unique IDs"
   ]
  },
  {
   "cell_type": "markdown",
   "metadata": {},
   "source": [
    "## Data Exploration\n",
    "\n",
    "Find hypothesis about your defined problem by visually analyzing the data"
   ]
  },
  {
   "cell_type": "markdown",
   "metadata": {},
   "source": [
    "## Feature Engineering\n",
    "\n",
    "Select important features and construct more meaningful ones using the raw data you that have"
   ]
  },
  {
   "cell_type": "markdown",
   "metadata": {},
   "source": [
    "1. Total number of bathrooms\n",
    "2. "
   ]
  },
  {
   "cell_type": "markdown",
   "metadata": {},
   "source": [
    "## Predictive Modeling\n",
    "\n",
    "Train machine learning models, evaluate their performance and use them to make predictions"
   ]
  },
  {
   "cell_type": "markdown",
   "metadata": {},
   "source": [
    "## Data Visualization\n",
    "\n",
    "Communicate the findings with key stakeholder using plots and interactive visualizations"
   ]
  },
  {
   "cell_type": "markdown",
   "metadata": {},
   "source": [
    "## Future Work"
   ]
  },
  {
   "cell_type": "code",
   "execution_count": null,
   "metadata": {},
   "outputs": [],
   "source": []
  }
 ],
 "metadata": {
  "kernelspec": {
   "display_name": "Python [conda env:nf] *",
   "language": "python",
   "name": "conda-env-nf-py"
  },
  "language_info": {
   "codemirror_mode": {
    "name": "ipython",
    "version": 3
   },
   "file_extension": ".py",
   "mimetype": "text/x-python",
   "name": "python",
   "nbconvert_exporter": "python",
   "pygments_lexer": "ipython3",
   "version": "3.6.10"
  },
  "toc": {
   "base_numbering": 1,
   "nav_menu": {},
   "number_sections": true,
   "sideBar": true,
   "skip_h1_title": false,
   "title_cell": "Table of Contents",
   "title_sidebar": "Contents",
   "toc_cell": false,
   "toc_position": {},
   "toc_section_display": true,
   "toc_window_display": false
  },
  "varInspector": {
   "cols": {
    "lenName": 16,
    "lenType": 16,
    "lenVar": 40
   },
   "kernels_config": {
    "python": {
     "delete_cmd_postfix": "",
     "delete_cmd_prefix": "del ",
     "library": "var_list.py",
     "varRefreshCmd": "print(var_dic_list())"
    },
    "r": {
     "delete_cmd_postfix": ") ",
     "delete_cmd_prefix": "rm(",
     "library": "var_list.r",
     "varRefreshCmd": "cat(var_dic_list()) "
    }
   },
   "types_to_exclude": [
    "module",
    "function",
    "builtin_function_or_method",
    "instance",
    "_Feature"
   ],
   "window_display": false
  }
 },
 "nbformat": 4,
 "nbformat_minor": 2
}
